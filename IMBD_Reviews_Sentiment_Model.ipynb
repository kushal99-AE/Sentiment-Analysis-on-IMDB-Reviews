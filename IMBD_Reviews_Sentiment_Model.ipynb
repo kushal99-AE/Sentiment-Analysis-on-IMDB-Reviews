{
  "nbformat": 4,
  "nbformat_minor": 0,
  "metadata": {
    "colab": {
      "provenance": []
    },
    "kernelspec": {
      "name": "python3",
      "display_name": "Python 3"
    },
    "language_info": {
      "name": "python"
    },
    "widgets": {
      "application/vnd.jupyter.widget-state+json": {
        "71f9601953dd4d8089418e29f8cf5639": {
          "model_module": "@jupyter-widgets/controls",
          "model_name": "HBoxModel",
          "model_module_version": "1.5.0",
          "state": {
            "_dom_classes": [],
            "_model_module": "@jupyter-widgets/controls",
            "_model_module_version": "1.5.0",
            "_model_name": "HBoxModel",
            "_view_count": null,
            "_view_module": "@jupyter-widgets/controls",
            "_view_module_version": "1.5.0",
            "_view_name": "HBoxView",
            "box_style": "",
            "children": [
              "IPY_MODEL_661e164d7aac4b1e9dac99914515e400",
              "IPY_MODEL_69fb5b53826b4425b5cc392b8b32b246",
              "IPY_MODEL_96b01374c1604e61aab239f533e8064e"
            ],
            "layout": "IPY_MODEL_d4e89c8ab0754cd1a24ce1e3de337fe5"
          }
        },
        "661e164d7aac4b1e9dac99914515e400": {
          "model_module": "@jupyter-widgets/controls",
          "model_name": "HTMLModel",
          "model_module_version": "1.5.0",
          "state": {
            "_dom_classes": [],
            "_model_module": "@jupyter-widgets/controls",
            "_model_module_version": "1.5.0",
            "_model_name": "HTMLModel",
            "_view_count": null,
            "_view_module": "@jupyter-widgets/controls",
            "_view_module_version": "1.5.0",
            "_view_name": "HTMLView",
            "description": "",
            "description_tooltip": null,
            "layout": "IPY_MODEL_508acfd928fb4918a14564de44eceaca",
            "placeholder": "​",
            "style": "IPY_MODEL_062a4289a9ae4fe090418baf50ab3d11",
            "value": "model.safetensors: 100%"
          }
        },
        "69fb5b53826b4425b5cc392b8b32b246": {
          "model_module": "@jupyter-widgets/controls",
          "model_name": "FloatProgressModel",
          "model_module_version": "1.5.0",
          "state": {
            "_dom_classes": [],
            "_model_module": "@jupyter-widgets/controls",
            "_model_module_version": "1.5.0",
            "_model_name": "FloatProgressModel",
            "_view_count": null,
            "_view_module": "@jupyter-widgets/controls",
            "_view_module_version": "1.5.0",
            "_view_name": "ProgressView",
            "bar_style": "success",
            "description": "",
            "description_tooltip": null,
            "layout": "IPY_MODEL_ceb2a724baf04c26bdda4d40322e8973",
            "max": 440449768,
            "min": 0,
            "orientation": "horizontal",
            "style": "IPY_MODEL_003dd73f01704f5a89c4ccfb5f73152f",
            "value": 440449768
          }
        },
        "96b01374c1604e61aab239f533e8064e": {
          "model_module": "@jupyter-widgets/controls",
          "model_name": "HTMLModel",
          "model_module_version": "1.5.0",
          "state": {
            "_dom_classes": [],
            "_model_module": "@jupyter-widgets/controls",
            "_model_module_version": "1.5.0",
            "_model_name": "HTMLModel",
            "_view_count": null,
            "_view_module": "@jupyter-widgets/controls",
            "_view_module_version": "1.5.0",
            "_view_name": "HTMLView",
            "description": "",
            "description_tooltip": null,
            "layout": "IPY_MODEL_7a2c98bc15c64d6b8b070ba15886c09d",
            "placeholder": "​",
            "style": "IPY_MODEL_7ce7fe5fa1794d47a3ff6a441fef1ca8",
            "value": " 440M/440M [00:06&lt;00:00, 130MB/s]"
          }
        },
        "d4e89c8ab0754cd1a24ce1e3de337fe5": {
          "model_module": "@jupyter-widgets/base",
          "model_name": "LayoutModel",
          "model_module_version": "1.2.0",
          "state": {
            "_model_module": "@jupyter-widgets/base",
            "_model_module_version": "1.2.0",
            "_model_name": "LayoutModel",
            "_view_count": null,
            "_view_module": "@jupyter-widgets/base",
            "_view_module_version": "1.2.0",
            "_view_name": "LayoutView",
            "align_content": null,
            "align_items": null,
            "align_self": null,
            "border": null,
            "bottom": null,
            "display": null,
            "flex": null,
            "flex_flow": null,
            "grid_area": null,
            "grid_auto_columns": null,
            "grid_auto_flow": null,
            "grid_auto_rows": null,
            "grid_column": null,
            "grid_gap": null,
            "grid_row": null,
            "grid_template_areas": null,
            "grid_template_columns": null,
            "grid_template_rows": null,
            "height": null,
            "justify_content": null,
            "justify_items": null,
            "left": null,
            "margin": null,
            "max_height": null,
            "max_width": null,
            "min_height": null,
            "min_width": null,
            "object_fit": null,
            "object_position": null,
            "order": null,
            "overflow": null,
            "overflow_x": null,
            "overflow_y": null,
            "padding": null,
            "right": null,
            "top": null,
            "visibility": null,
            "width": null
          }
        },
        "508acfd928fb4918a14564de44eceaca": {
          "model_module": "@jupyter-widgets/base",
          "model_name": "LayoutModel",
          "model_module_version": "1.2.0",
          "state": {
            "_model_module": "@jupyter-widgets/base",
            "_model_module_version": "1.2.0",
            "_model_name": "LayoutModel",
            "_view_count": null,
            "_view_module": "@jupyter-widgets/base",
            "_view_module_version": "1.2.0",
            "_view_name": "LayoutView",
            "align_content": null,
            "align_items": null,
            "align_self": null,
            "border": null,
            "bottom": null,
            "display": null,
            "flex": null,
            "flex_flow": null,
            "grid_area": null,
            "grid_auto_columns": null,
            "grid_auto_flow": null,
            "grid_auto_rows": null,
            "grid_column": null,
            "grid_gap": null,
            "grid_row": null,
            "grid_template_areas": null,
            "grid_template_columns": null,
            "grid_template_rows": null,
            "height": null,
            "justify_content": null,
            "justify_items": null,
            "left": null,
            "margin": null,
            "max_height": null,
            "max_width": null,
            "min_height": null,
            "min_width": null,
            "object_fit": null,
            "object_position": null,
            "order": null,
            "overflow": null,
            "overflow_x": null,
            "overflow_y": null,
            "padding": null,
            "right": null,
            "top": null,
            "visibility": null,
            "width": null
          }
        },
        "062a4289a9ae4fe090418baf50ab3d11": {
          "model_module": "@jupyter-widgets/controls",
          "model_name": "DescriptionStyleModel",
          "model_module_version": "1.5.0",
          "state": {
            "_model_module": "@jupyter-widgets/controls",
            "_model_module_version": "1.5.0",
            "_model_name": "DescriptionStyleModel",
            "_view_count": null,
            "_view_module": "@jupyter-widgets/base",
            "_view_module_version": "1.2.0",
            "_view_name": "StyleView",
            "description_width": ""
          }
        },
        "ceb2a724baf04c26bdda4d40322e8973": {
          "model_module": "@jupyter-widgets/base",
          "model_name": "LayoutModel",
          "model_module_version": "1.2.0",
          "state": {
            "_model_module": "@jupyter-widgets/base",
            "_model_module_version": "1.2.0",
            "_model_name": "LayoutModel",
            "_view_count": null,
            "_view_module": "@jupyter-widgets/base",
            "_view_module_version": "1.2.0",
            "_view_name": "LayoutView",
            "align_content": null,
            "align_items": null,
            "align_self": null,
            "border": null,
            "bottom": null,
            "display": null,
            "flex": null,
            "flex_flow": null,
            "grid_area": null,
            "grid_auto_columns": null,
            "grid_auto_flow": null,
            "grid_auto_rows": null,
            "grid_column": null,
            "grid_gap": null,
            "grid_row": null,
            "grid_template_areas": null,
            "grid_template_columns": null,
            "grid_template_rows": null,
            "height": null,
            "justify_content": null,
            "justify_items": null,
            "left": null,
            "margin": null,
            "max_height": null,
            "max_width": null,
            "min_height": null,
            "min_width": null,
            "object_fit": null,
            "object_position": null,
            "order": null,
            "overflow": null,
            "overflow_x": null,
            "overflow_y": null,
            "padding": null,
            "right": null,
            "top": null,
            "visibility": null,
            "width": null
          }
        },
        "003dd73f01704f5a89c4ccfb5f73152f": {
          "model_module": "@jupyter-widgets/controls",
          "model_name": "ProgressStyleModel",
          "model_module_version": "1.5.0",
          "state": {
            "_model_module": "@jupyter-widgets/controls",
            "_model_module_version": "1.5.0",
            "_model_name": "ProgressStyleModel",
            "_view_count": null,
            "_view_module": "@jupyter-widgets/base",
            "_view_module_version": "1.2.0",
            "_view_name": "StyleView",
            "bar_color": null,
            "description_width": ""
          }
        },
        "7a2c98bc15c64d6b8b070ba15886c09d": {
          "model_module": "@jupyter-widgets/base",
          "model_name": "LayoutModel",
          "model_module_version": "1.2.0",
          "state": {
            "_model_module": "@jupyter-widgets/base",
            "_model_module_version": "1.2.0",
            "_model_name": "LayoutModel",
            "_view_count": null,
            "_view_module": "@jupyter-widgets/base",
            "_view_module_version": "1.2.0",
            "_view_name": "LayoutView",
            "align_content": null,
            "align_items": null,
            "align_self": null,
            "border": null,
            "bottom": null,
            "display": null,
            "flex": null,
            "flex_flow": null,
            "grid_area": null,
            "grid_auto_columns": null,
            "grid_auto_flow": null,
            "grid_auto_rows": null,
            "grid_column": null,
            "grid_gap": null,
            "grid_row": null,
            "grid_template_areas": null,
            "grid_template_columns": null,
            "grid_template_rows": null,
            "height": null,
            "justify_content": null,
            "justify_items": null,
            "left": null,
            "margin": null,
            "max_height": null,
            "max_width": null,
            "min_height": null,
            "min_width": null,
            "object_fit": null,
            "object_position": null,
            "order": null,
            "overflow": null,
            "overflow_x": null,
            "overflow_y": null,
            "padding": null,
            "right": null,
            "top": null,
            "visibility": null,
            "width": null
          }
        },
        "7ce7fe5fa1794d47a3ff6a441fef1ca8": {
          "model_module": "@jupyter-widgets/controls",
          "model_name": "DescriptionStyleModel",
          "model_module_version": "1.5.0",
          "state": {
            "_model_module": "@jupyter-widgets/controls",
            "_model_module_version": "1.5.0",
            "_model_name": "DescriptionStyleModel",
            "_view_count": null,
            "_view_module": "@jupyter-widgets/base",
            "_view_module_version": "1.2.0",
            "_view_name": "StyleView",
            "description_width": ""
          }
        }
      }
    }
  },
  "cells": [
    {
      "cell_type": "code",
      "execution_count": null,
      "metadata": {
        "id": "-6Xa2d5gxi2a",
        "colab": {
          "base_uri": "https://localhost:8080/"
        },
        "outputId": "2652612e-429e-453b-e07d-421a783ff007"
      },
      "outputs": [
        {
          "output_type": "stream",
          "name": "stdout",
          "text": [
            "Epoch 1/20\n",
            "30/30 [==============================] - 5s 118ms/step - loss: 0.9731 - accuracy: 0.4931 - val_loss: 0.7190 - val_accuracy: 0.5228\n",
            "Epoch 2/20\n",
            "30/30 [==============================] - 3s 92ms/step - loss: 0.6736 - accuracy: 0.6001 - val_loss: 0.6321 - val_accuracy: 0.6608\n",
            "Epoch 3/20\n",
            "30/30 [==============================] - 2s 75ms/step - loss: 0.6105 - accuracy: 0.6847 - val_loss: 0.5977 - val_accuracy: 0.6924\n",
            "Epoch 4/20\n",
            "30/30 [==============================] - 3s 90ms/step - loss: 0.5822 - accuracy: 0.7040 - val_loss: 0.5756 - val_accuracy: 0.7085\n",
            "Epoch 5/20\n",
            "30/30 [==============================] - 4s 122ms/step - loss: 0.5580 - accuracy: 0.7237 - val_loss: 0.5529 - val_accuracy: 0.7268\n",
            "Epoch 6/20\n",
            "30/30 [==============================] - 3s 92ms/step - loss: 0.5319 - accuracy: 0.7451 - val_loss: 0.5303 - val_accuracy: 0.7453\n",
            "Epoch 7/20\n",
            "30/30 [==============================] - 3s 92ms/step - loss: 0.5053 - accuracy: 0.7645 - val_loss: 0.5057 - val_accuracy: 0.7618\n",
            "Epoch 8/20\n",
            "30/30 [==============================] - 3s 101ms/step - loss: 0.4762 - accuracy: 0.7841 - val_loss: 0.4804 - val_accuracy: 0.7796\n",
            "Epoch 9/20\n",
            "30/30 [==============================] - 3s 93ms/step - loss: 0.4467 - accuracy: 0.8031 - val_loss: 0.4555 - val_accuracy: 0.7965\n",
            "Epoch 10/20\n",
            "30/30 [==============================] - 3s 77ms/step - loss: 0.4164 - accuracy: 0.8198 - val_loss: 0.4311 - val_accuracy: 0.8089\n",
            "Epoch 11/20\n",
            "30/30 [==============================] - 3s 94ms/step - loss: 0.3861 - accuracy: 0.8375 - val_loss: 0.4076 - val_accuracy: 0.8218\n",
            "Epoch 12/20\n",
            "30/30 [==============================] - 3s 102ms/step - loss: 0.3572 - accuracy: 0.8504 - val_loss: 0.3867 - val_accuracy: 0.8315\n",
            "Epoch 13/20\n",
            "30/30 [==============================] - 3s 93ms/step - loss: 0.3304 - accuracy: 0.8643 - val_loss: 0.3702 - val_accuracy: 0.8383\n",
            "Epoch 14/20\n",
            "30/30 [==============================] - 3s 92ms/step - loss: 0.3053 - accuracy: 0.8776 - val_loss: 0.3552 - val_accuracy: 0.8456\n",
            "Epoch 15/20\n",
            "30/30 [==============================] - 3s 92ms/step - loss: 0.2834 - accuracy: 0.8891 - val_loss: 0.3411 - val_accuracy: 0.8506\n",
            "Epoch 16/20\n",
            "30/30 [==============================] - 2s 74ms/step - loss: 0.2628 - accuracy: 0.8983 - val_loss: 0.3314 - val_accuracy: 0.8563\n",
            "Epoch 17/20\n",
            "30/30 [==============================] - 2s 73ms/step - loss: 0.2453 - accuracy: 0.9069 - val_loss: 0.3240 - val_accuracy: 0.8583\n",
            "Epoch 18/20\n",
            "30/30 [==============================] - 3s 90ms/step - loss: 0.2285 - accuracy: 0.9137 - val_loss: 0.3173 - val_accuracy: 0.8631\n",
            "Epoch 19/20\n",
            "30/30 [==============================] - 4s 120ms/step - loss: 0.2136 - accuracy: 0.9215 - val_loss: 0.3127 - val_accuracy: 0.8652\n",
            "Epoch 20/20\n",
            "30/30 [==============================] - 2s 76ms/step - loss: 0.1996 - accuracy: 0.9281 - val_loss: 0.3166 - val_accuracy: 0.8638\n"
          ]
        },
        {
          "output_type": "stream",
          "name": "stderr",
          "text": [
            "/usr/local/lib/python3.10/dist-packages/keras/src/engine/training.py:3103: UserWarning: You are saving your model as an HDF5 file via `model.save()`. This file format is considered legacy. We recommend using instead the native Keras format, e.g. `model.save('my_model.keras')`.\n",
            "  saving_api.save_model(\n"
          ]
        }
      ],
      "source": [
        "import tensorflow as tf\n",
        "import tensorflow_datasets as tfds\n",
        "import tensorflow_hub as hub\n",
        "import sklearn\n",
        "from transformers import TFAutoModelForSequenceClassification, AutoTokenizer\n",
        "from sklearn.model_selection import train_test_split\n",
        "import sklearn\n",
        "\n",
        "\n",
        "# Load the IMDB dataset in tensorflow datasets\n",
        "train_data, validation_data, test_data = tfds.load(\n",
        "    name=\"imdb_reviews\",\n",
        "    split=('train[:60%]', 'train[60%:]', 'test'),\n",
        "    as_supervised=True)\n",
        "\n",
        "# Transfer learning from tensorflow hub\n",
        "pretrained_model = \"https://tfhub.dev/google/tf2-preview/gnews-swivel-20dim/1\"\n",
        "first_layer = hub.KerasLayer(pretrained_model, input_shape=[],\n",
        "                          dtype=tf.string, trainable=True)\n",
        "\n",
        "#Build the model\n",
        "model = tf.keras.Sequential()\n",
        "model.add(first_layer)\n",
        "model.add(tf.keras.layers.Dense(16, activation='relu'))\n",
        "model.add(tf.keras.layers.Dense(1, activation='sigmoid'))\n",
        "\n",
        "#Compile the model\n",
        "model.compile(loss='binary_crossentropy',\n",
        "              optimizer='adam',\n",
        "              metrics=['accuracy'])\n",
        "\n",
        "#Fitting the model\n",
        "history = model.fit(train_data.shuffle(10000, seed=0).batch(512),\n",
        "                    epochs=20,\n",
        "                    validation_data=validation_data.batch(512))\n",
        "\n",
        "#Saving the model\n",
        "model.save('imbd_model.zip')\n",
        "model.save('imbd_model.h5')\n",
        "model.save('imbd_model')"
      ]
    },
    {
      "cell_type": "code",
      "source": [
        "\n",
        "\n",
        "# Load the IMDB test dataset\n",
        "test_data = tfds.load(name=\"imdb_reviews\", split=\"test\", as_supervised=True)\n",
        "\n",
        "# Prepare the test dataset\n",
        "test_dataset = test_data.batch(512)\n",
        "\n",
        "# Evaluate the model on the test dataset\n",
        "results = model.evaluate(test_dataset)\n",
        "\n",
        "# Print the evaluation results\n",
        "print(\"Test Loss:\", results[0])\n",
        "print(\"Test Accuracy:\", results[1])\n"
      ],
      "metadata": {
        "id": "YvdHyHDBxmdr",
        "colab": {
          "base_uri": "https://localhost:8080/"
        },
        "outputId": "5b3d040b-1615-4637-eb9a-6686d592a577"
      },
      "execution_count": null,
      "outputs": [
        {
          "output_type": "stream",
          "name": "stdout",
          "text": [
            "49/49 [==============================] - 4s 72ms/step - loss: 0.3164 - accuracy: 0.8648\n",
            "Test Loss: 0.316371887922287\n",
            "Test Accuracy: 0.8647599816322327\n"
          ]
        }
      ]
    },
    {
      "cell_type": "code",
      "source": [
        "from google.colab import drive\n",
        "drive.mount(\"/content/drive\")\n"
      ],
      "metadata": {
        "id": "TT15MqAEzMGC",
        "colab": {
          "base_uri": "https://localhost:8080/"
        },
        "outputId": "bbd37192-1c70-4375-fc87-2bc8241ea544"
      },
      "execution_count": null,
      "outputs": [
        {
          "output_type": "stream",
          "name": "stdout",
          "text": [
            "Mounted at /content/drive\n"
          ]
        }
      ]
    },
    {
      "cell_type": "code",
      "source": [
        "import tensorflow as tf\n",
        "from tensorflow.keras.datasets import imdb\n",
        "from tensorflow.keras.preprocessing.sequence import pad_sequences\n",
        "import tensorflow_hub as hub\n",
        "from tensorflow.keras.models import load_model\n",
        "\n",
        "\n",
        "#load the saved model\n",
        "model = load_model(\"/content/imbd_mdoel\")\n",
        "\n",
        "# Load the IMDB test dataset\n",
        "test_data = tfds.load(name=\"imdb_reviews\", split=\"test\", as_supervised=True)\n",
        "\n",
        "# Prepare the test dataset\n",
        "test_dataset = test_data.batch(512)\n",
        "\n",
        "# Evaluate the model on the test dataset\n",
        "results = model.evaluate(test_dataset)\n",
        "\n",
        "# Print the evaluation results\n",
        "print(\"Test Loss:\", results[0])\n",
        "print(\"Test Accuracy:\", results[1])"
      ],
      "metadata": {
        "colab": {
          "base_uri": "https://localhost:8080/"
        },
        "id": "CkLWwpkbyAHz",
        "outputId": "81b995c6-eb4c-45bf-d538-dcce946e592e"
      },
      "execution_count": null,
      "outputs": [
        {
          "output_type": "stream",
          "name": "stdout",
          "text": [
            "49/49 [==============================] - 4s 70ms/step - loss: 0.3164 - accuracy: 0.8648\n",
            "Test Loss: 0.316371887922287\n",
            "Test Accuracy: 0.8647599816322327\n"
          ]
        }
      ]
    },
    {
      "cell_type": "code",
      "source": [
        "train_labels_batch"
      ],
      "metadata": {
        "colab": {
          "base_uri": "https://localhost:8080/"
        },
        "id": "sDDGBVpeyUym",
        "outputId": "201ed4a7-30a4-46bd-f5d9-788e46da7f5f"
      },
      "execution_count": null,
      "outputs": [
        {
          "output_type": "execute_result",
          "data": {
            "text/plain": [
              "<tf.Tensor: shape=(5,), dtype=int64, numpy=array([0, 0, 0, 1, 1])>"
            ]
          },
          "metadata": {},
          "execution_count": 21
        }
      ]
    },
    {
      "cell_type": "code",
      "source": [
        "from transformers import AutoModel, AutoTokenizer"
      ],
      "metadata": {
        "id": "umS327k61pO6"
      },
      "execution_count": null,
      "outputs": []
    },
    {
      "cell_type": "code",
      "source": [
        "# Create an embedding layer\n",
        "model_name = \"bert-base-uncased\"  # Example: BERT model\n",
        "tokenizer = AutoTokenizer.from_pretrained(model_name)\n",
        "base_model = AutoModel.from_pretrained(model_name)"
      ],
      "metadata": {
        "colab": {
          "base_uri": "https://localhost:8080/",
          "height": 49,
          "referenced_widgets": [
            "71f9601953dd4d8089418e29f8cf5639",
            "661e164d7aac4b1e9dac99914515e400",
            "69fb5b53826b4425b5cc392b8b32b246",
            "96b01374c1604e61aab239f533e8064e",
            "d4e89c8ab0754cd1a24ce1e3de337fe5",
            "508acfd928fb4918a14564de44eceaca",
            "062a4289a9ae4fe090418baf50ab3d11",
            "ceb2a724baf04c26bdda4d40322e8973",
            "003dd73f01704f5a89c4ccfb5f73152f",
            "7a2c98bc15c64d6b8b070ba15886c09d",
            "7ce7fe5fa1794d47a3ff6a441fef1ca8"
          ]
        },
        "id": "64O36iduybaK",
        "outputId": "db93aaed-34c3-43c3-e48a-8aadec1dfe2c"
      },
      "execution_count": null,
      "outputs": [
        {
          "output_type": "display_data",
          "data": {
            "text/plain": [
              "model.safetensors:   0%|          | 0.00/440M [00:00<?, ?B/s]"
            ],
            "application/vnd.jupyter.widget-view+json": {
              "version_major": 2,
              "version_minor": 0,
              "model_id": "71f9601953dd4d8089418e29f8cf5639"
            }
          },
          "metadata": {}
        }
      ]
    },
    {
      "cell_type": "code",
      "source": [
        "model = tf.keras.Sequential()"
      ],
      "metadata": {
        "id": "4lbTW6f1zgYl"
      },
      "execution_count": null,
      "outputs": []
    },
    {
      "cell_type": "code",
      "source": [],
      "metadata": {
        "id": "KwFOZ-vv2Frs"
      },
      "execution_count": null,
      "outputs": []
    },
    {
      "cell_type": "code",
      "source": [
        "model.compile(loss='binary_crossentropy',\n",
        "              optimizer='adam',\n",
        "              metrics=['accuracy'])"
      ],
      "metadata": {
        "id": "7zgWmmF4zj2R"
      },
      "execution_count": null,
      "outputs": []
    },
    {
      "cell_type": "code",
      "source": [
        "history = model.fit(train_dataset.shuffle(10000, seed=0).batch(512),\n",
        "                    epochs=20,\n",
        "                    validation_data=test_data.batch(512))"
      ],
      "metadata": {
        "colab": {
          "base_uri": "https://localhost:8080/"
        },
        "id": "722Kt1sQzniC",
        "outputId": "39c2f804-6628-4bcc-a359-78dffc6f7cf4"
      },
      "execution_count": null,
      "outputs": [
        {
          "output_type": "stream",
          "name": "stdout",
          "text": [
            "Epoch 1/20\n",
            "49/49 [==============================] - 10s 206ms/step - loss: 0.1134 - accuracy: 0.9652 - val_loss: 0.3324 - val_accuracy: 0.8689\n",
            "Epoch 2/20\n",
            "49/49 [==============================] - 5s 105ms/step - loss: 0.1062 - accuracy: 0.9684 - val_loss: 0.3347 - val_accuracy: 0.8694\n",
            "Epoch 3/20\n",
            "49/49 [==============================] - 4s 88ms/step - loss: 0.0994 - accuracy: 0.9714 - val_loss: 0.3436 - val_accuracy: 0.8680\n",
            "Epoch 4/20\n",
            "49/49 [==============================] - 6s 109ms/step - loss: 0.0932 - accuracy: 0.9739 - val_loss: 0.3531 - val_accuracy: 0.8651\n",
            "Epoch 5/20\n",
            "49/49 [==============================] - 8s 157ms/step - loss: 0.0879 - accuracy: 0.9757 - val_loss: 0.3623 - val_accuracy: 0.8654\n",
            "Epoch 6/20\n",
            "49/49 [==============================] - 4s 85ms/step - loss: 0.0821 - accuracy: 0.9782 - val_loss: 0.3722 - val_accuracy: 0.8628\n",
            "Epoch 7/20\n",
            "49/49 [==============================] - 5s 103ms/step - loss: 0.0770 - accuracy: 0.9802 - val_loss: 0.3838 - val_accuracy: 0.8615\n",
            "Epoch 8/20\n",
            "49/49 [==============================] - 5s 104ms/step - loss: 0.0719 - accuracy: 0.9820 - val_loss: 0.3982 - val_accuracy: 0.8592\n",
            "Epoch 9/20\n",
            "49/49 [==============================] - 5s 104ms/step - loss: 0.0673 - accuracy: 0.9838 - val_loss: 0.4103 - val_accuracy: 0.8576\n",
            "Epoch 10/20\n",
            "49/49 [==============================] - 8s 158ms/step - loss: 0.0627 - accuracy: 0.9853 - val_loss: 0.4197 - val_accuracy: 0.8570\n",
            "Epoch 11/20\n",
            "49/49 [==============================] - 4s 87ms/step - loss: 0.0585 - accuracy: 0.9875 - val_loss: 0.4334 - val_accuracy: 0.8552\n",
            "Epoch 12/20\n",
            "49/49 [==============================] - 6s 126ms/step - loss: 0.0544 - accuracy: 0.9885 - val_loss: 0.4462 - val_accuracy: 0.8546\n",
            "Epoch 13/20\n",
            "49/49 [==============================] - 5s 104ms/step - loss: 0.0508 - accuracy: 0.9894 - val_loss: 0.4604 - val_accuracy: 0.8529\n",
            "Epoch 14/20\n",
            "49/49 [==============================] - 4s 86ms/step - loss: 0.0472 - accuracy: 0.9912 - val_loss: 0.4752 - val_accuracy: 0.8521\n",
            "Epoch 15/20\n",
            "49/49 [==============================] - 5s 104ms/step - loss: 0.0436 - accuracy: 0.9919 - val_loss: 0.4880 - val_accuracy: 0.8511\n",
            "Epoch 16/20\n",
            "49/49 [==============================] - 5s 104ms/step - loss: 0.0407 - accuracy: 0.9931 - val_loss: 0.5034 - val_accuracy: 0.8502\n",
            "Epoch 17/20\n",
            "49/49 [==============================] - 5s 103ms/step - loss: 0.0376 - accuracy: 0.9938 - val_loss: 0.5190 - val_accuracy: 0.8488\n",
            "Epoch 18/20\n",
            "49/49 [==============================] - 5s 103ms/step - loss: 0.0351 - accuracy: 0.9948 - val_loss: 0.5352 - val_accuracy: 0.8483\n",
            "Epoch 19/20\n",
            "49/49 [==============================] - 5s 104ms/step - loss: 0.0326 - accuracy: 0.9953 - val_loss: 0.5497 - val_accuracy: 0.8470\n",
            "Epoch 20/20\n",
            "49/49 [==============================] - 5s 104ms/step - loss: 0.0298 - accuracy: 0.9962 - val_loss: 0.5678 - val_accuracy: 0.8443\n"
          ]
        }
      ]
    }
  ]
}